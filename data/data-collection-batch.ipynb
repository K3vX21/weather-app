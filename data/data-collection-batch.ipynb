{
 "cells": [
  {
   "cell_type": "code",
   "execution_count": 1,
   "metadata": {},
   "outputs": [],
   "source": [
    "import imageio.v3 as iio\n",
    "import requests\n",
    "import numpy as np\n",
    "import os\n",
    "from datetime import datetime\n",
    "import sys  \n",
    "import colorsys\n",
    "import csv"
   ]
  },
  {
   "cell_type": "code",
   "execution_count": 2,
   "metadata": {},
   "outputs": [
    {
     "name": "stdout",
     "output_type": "stream",
     "text": [
      "Flickr API call was successful.\n"
     ]
    }
   ],
   "source": [
    "# Make api call to flickr\n",
    "# for some reason, flickr key isn't found (KeyError)\n",
    "\n",
    "flickr_api_url = \"https://www.flickr.com/services/rest/?method=flickr.photos.search&api_key=f8ac40eee0aacfa3be6dee0cbac63930\" +\\\n",
    "            \"&tags=sunset\" +\\\n",
    "            \"&text=sunset%20landscape\" +\\\n",
    "            \"&content_type=1\" +\\\n",
    "            \"&has_geo=1\" +\\\n",
    "            \"&sort=interestingness-desc\" +\\\n",
    "            \"&extras=date_taken%2C+geo%2C+url_o\" +\\\n",
    "            \"&format=json&nojsoncallback=1\"\n",
    "            # \"&is_getty=1\" +\\             \n",
    "\n",
    "flickr_res = requests.get(flickr_api_url)\n",
    "\n",
    "if(flickr_res.status_code < 200 or flickr_res.status_code >= 300): \n",
    "    print('Unsuccessful request. Error code: {}'.format(flickr_res.status_code))\n",
    "    sys.exit()\n",
    "else:\n",
    "    print(\"Flickr API call was successful.\")\n",
    "    flickr_res = flickr_res.json()"
   ]
  },
  {
   "cell_type": "code",
   "execution_count": 3,
   "metadata": {},
   "outputs": [],
   "source": [
    "# write csv header\n",
    "fields = ['calc_score', 'humidity', 'cloud_cover', 'visibility', 'user_score', 'lat', 'long', 'date_time', 'image_url']\n",
    "\n",
    "with open('./data.csv', 'w', newline='') as f:\n",
    "    writer = csv.writer(f)\n",
    "    row = ['a', 'b', 'c']\n",
    "    writer.writerow(fields)"
   ]
  },
  {
   "cell_type": "code",
   "execution_count": 4,
   "metadata": {},
   "outputs": [
    {
     "name": "stdout",
     "output_type": "stream",
     "text": [
      "Length of Flickr API response:  250\n"
     ]
    },
    {
     "name": "stderr",
     "output_type": "stream",
     "text": [
      "c:\\Python310\\lib\\colorsys.py:78: RuntimeWarning: overflow encountered in ubyte_scalars\n",
      "  sumc = (maxc+minc)\n",
      "c:\\Python310\\lib\\colorsys.py:86: RuntimeWarning: divide by zero encountered in double_scalars\n",
      "  s = rangec / (2.0-sumc)\n",
      "c:\\Python310\\lib\\colorsys.py:84: RuntimeWarning: divide by zero encountered in ubyte_scalars\n",
      "  s = rangec / sumc\n"
     ]
    },
    {
     "name": "stdout",
     "output_type": "stream",
     "text": [
      "image 25 doesn't have all data:\n",
      "None None None\n",
      "{'executionTime': -1, 'sessionId': '', 'errorCode': 999, 'message': 'No weather stations found within 50.0mi of location 21.987053, -69.706850.'}\n",
      "image 49 doesn't have all data:\n",
      "72.38 2.1 None\n",
      "{'executionTime': -1, 'sessionId': '', 'errorCode': 999, 'message': 'No weather stations found within 50.0mi of location 41.518988, -3.531160.'}\n",
      "image 72 doesn't have all data:\n",
      "65.91 0.0 None\n",
      "image 91 doesn't have all data:\n",
      "None None None\n",
      "image 93 doesn't have all data:\n",
      "76.1 0.0 None\n",
      "image 97 doesn't have all data:\n",
      "66.37 0.0 None\n"
     ]
    }
   ],
   "source": [
    "# Process multiple images at once\n",
    "VISUALCROSSING_API_KEY = os.environ[\"VISUALCROSSING_API_KEY\"]\n",
    "DATE_TIME_FORMAT_STRING = \"%Y-%m-%d %H:%M:%S\"\n",
    "SAMPLE_SCALE = 5\n",
    "\n",
    "def score_sunset(image):\n",
    "    sunset_pixel_counter = 0\n",
    "    for i in range(image.shape[0]):\n",
    "        for j in range(image.shape[1]):\n",
    "            rVal = image[i,j,0]\n",
    "            gVal = image[i,j,1]  \n",
    "            bVal = image[i,j,2]\n",
    "            hVal = colorsys.rgb_to_hls(rVal, gVal, bVal)[0]*360\n",
    "            if(hVal <= 45): # oranges are weighted less\n",
    "                sunset_pixel_counter += 0.7\n",
    "            elif(hVal >= 270): # reds and magentas are weighted fully\n",
    "                sunset_pixel_counter +=1\n",
    "\n",
    "    total_image_pixels = image.shape[1] *  image.shape[0]\n",
    "    sunset_score = ((sunset_pixel_counter / total_image_pixels) * 10)\n",
    "    sunset_score = round(sunset_score, 3)\n",
    "    return sunset_score\n",
    "\n",
    "f = open('./data.csv', 'a', newline='')\n",
    "writer = csv.writer(f)\n",
    "\n",
    "print(\"Length of Flickr API response: \", len(flickr_res['photos']['photo']))\n",
    "\n",
    "for i in range(10, 100):\n",
    "    # Get and load pic from flickr res\n",
    "    photo = flickr_res['photos']['photo'][i]\n",
    "    imgUrl = f'https://live.staticflickr.com/{photo[\"server\"]}/{photo[\"id\"]}_{photo[\"secret\"]}_b.jpg'\n",
    "    pic = iio.imread(imgUrl)\n",
    "    \n",
    "    # GET WEATHER DATA FOR IMAGE\n",
    "    # nearest hour of sunset for picture\n",
    "    date_taken = datetime.strptime(photo[\"datetaken\"], DATE_TIME_FORMAT_STRING)\n",
    "    nearest_sunset_hour = date_taken.hour\n",
    "    if date_taken.minute > 30:\n",
    "        nearest_sunset_hour +=  1\n",
    "    \n",
    "    # make api call for picture\n",
    "    visualcrossing_history_api_url = \"https://weather.visualcrossing.com/VisualCrossingWebServices/rest/services/weatherdata/history?\" +\\\n",
    "                            \"&aggregateHours=1\" +\\\n",
    "                            \"&startDateTime=\" + str(date_taken.date()) +\\\n",
    "                            \"&endDateTime=\" + str(date_taken.date())  +\\\n",
    "                            \"&unitGroup=metric\" +\\\n",
    "                            \"&contentType=json\" +\\\n",
    "                            \"&dayStartTime=\" + str(nearest_sunset_hour) + \":0:00\" +\\\n",
    "                            \"&dayEndTime=\" + str(nearest_sunset_hour + 1) + \":0:00\" +\\\n",
    "                            \"&location=\" + photo[\"latitude\"] + \"%2C%20\" + photo[\"longitude\"] +\\\n",
    "                            \"&key=\" + VISUALCROSSING_API_KEY\n",
    "    weather_res = requests.get(visualcrossing_history_api_url)\n",
    "\n",
    "    if(weather_res.status_code != 200): \n",
    "        print('Unsuccessful request. Error code: {}'.format(weather_res.status_code))\n",
    "        sys.exit()\n",
    "    else:\n",
    "        # print('Visual Crossing API call was successful for index ', i)\n",
    "        weather_res = weather_res.json()\n",
    "    \n",
    "    # get weather data of picture\n",
    "    try:\n",
    "        nearest_hour_data = weather_res['locations'][photo[\"latitude\"] + \", \" + photo[\"longitude\"]]['values'][0]\n",
    "        humidity = nearest_hour_data['humidity']\n",
    "        cloud_cover = nearest_hour_data['cloudcover']\n",
    "        visibility = nearest_hour_data['visibility']\n",
    "    except KeyError:\n",
    "        if(weather_res['errorCode'] == -994): # api call quota hit\n",
    "            print(weather_res)\n",
    "            break\n",
    "        else:\n",
    "            # handles errorCode 999 (weird stuff)\n",
    "            print(weather_res)\n",
    "        \n",
    "    # prevent images with empty weather data from being written\n",
    "    if(humidity == None or cloud_cover == None or visibility == None):\n",
    "        print(\"image\" , i, \"doesn't have all data:\")\n",
    "        print(humidity, cloud_cover, visibility)\n",
    "        continue\n",
    "\n",
    "    # ANALYZE PHOTO\n",
    "    length = pic.shape[0]\n",
    "    width = pic.shape[1]\n",
    "    sys_sample_pic = pic[0:length:SAMPLE_SCALE, 0:width:SAMPLE_SCALE, :]\n",
    "    calc_score = score_sunset(sys_sample_pic)\n",
    "\n",
    "    # WRITE TO CSV\n",
    "    row = [calc_score, humidity, cloud_cover, visibility, \"\", photo[\"latitude\"], photo[\"longitude\"], date_taken, imgUrl]\n",
    "    writer.writerow(row)\n",
    "\n",
    "f.close()"
   ]
  }
 ],
 "metadata": {
  "kernelspec": {
   "display_name": "Python 3.10.1 64-bit",
   "language": "python",
   "name": "python3"
  },
  "language_info": {
   "codemirror_mode": {
    "name": "ipython",
    "version": 3
   },
   "file_extension": ".py",
   "mimetype": "text/x-python",
   "name": "python",
   "nbconvert_exporter": "python",
   "pygments_lexer": "ipython3",
   "version": "3.10.1"
  },
  "orig_nbformat": 4,
  "vscode": {
   "interpreter": {
    "hash": "369f2c481f4da34e4445cda3fffd2e751bd1c4d706f27375911949ba6bb62e1c"
   }
  }
 },
 "nbformat": 4,
 "nbformat_minor": 2
}
