{
 "cells": [
  {
   "cell_type": "code",
   "execution_count": 24,
   "metadata": {},
   "outputs": [
    {
     "data": {
      "text/plain": [
       "True"
      ]
     },
     "execution_count": 24,
     "metadata": {},
     "output_type": "execute_result"
    }
   ],
   "source": [
    "import imageio.v3 as iio\n",
    "import matplotlib.pyplot as plt\n",
    "import requests\n",
    "import numpy as np\n",
    "import os\n",
    "from dotenv import load_dotenv\n",
    "from datetime import datetime\n",
    "import sys  \n",
    "import colorsys\n",
    "import csv\n",
    "%matplotlib inline\n",
    "\n",
    "load_dotenv()"
   ]
  },
  {
   "cell_type": "code",
   "execution_count": 25,
   "metadata": {},
   "outputs": [
    {
     "name": "stdout",
     "output_type": "stream",
     "text": [
      "f8ac40eee0aacfa3be6dee0cbac63930\n",
      "Flickr API call was successful.\n"
     ]
    }
   ],
   "source": [
    "# make api call to flickr\n",
    "# for some reason, flickr key isn't found (KeyError)\n",
    "FLICKR_API_KEY = os.getenv(\"FLICKR_API_KEY\")\n",
    "\n",
    "flickr_api_url = \"https://www.flickr.com/services/rest/?method=flickr.photos.search\" +\\\n",
    "            \"&api_key=\" + FLICKR_API_KEY +\\\n",
    "            \"&tags=sunset\" +\\\n",
    "            \"&text=sunset%20landscape\" +\\\n",
    "            \"&content_type=1\" +\\\n",
    "            \"&has_geo=1\" +\\\n",
    "            \"&sort=date-posted-desc\" +\\\n",
    "            \"min_upload_date=2005-01-01\" +\\\n",
    "            \"&extras=date_taken%2C+geo%2C+url_o\" +\\\n",
    "            \"&format=json&nojsoncallback=1\" +\\\n",
    "            \"page=1\"\n",
    "            # \"&is_getty=1\" +\\             \n",
    "\n",
    "flickr_res = requests.get(flickr_api_url)\n",
    "if(flickr_res.status_code < 200 or flickr_res.status_code >= 300): \n",
    "    print('Unsuccessful request. Error code: {}'.format(flickr_res.status_code))\n",
    "    sys.exit()\n",
    "else:\n",
    "    print(\"Flickr API call was successful.\")\n",
    "    flickr_res = flickr_res.json()\n"
   ]
  },
  {
   "cell_type": "code",
   "execution_count": 26,
   "metadata": {},
   "outputs": [
    {
     "name": "stdout",
     "output_type": "stream",
     "text": [
      "{'id': '52263583156', 'owner': '183902936@N04', 'secret': 'd315d5c9f6', 'server': '65535', 'farm': 66, 'title': 'Mindfulness', 'ispublic': 1, 'isfriend': 0, 'isfamily': 0, 'datetaken': '2022-08-01 19:07:51', 'datetakengranularity': 0, 'datetakenunknown': '0', 'latitude': '39.236554', 'longitude': '20.476155', 'accuracy': '14', 'context': 0, 'place_id': '', 'woeid': '265149', 'geo_is_public': 1, 'geo_is_contact': 0, 'geo_is_friend': 0, 'geo_is_family': 0, 'url_o': 'https://live.staticflickr.com/65535/52263583156_87dc5b2419_o.jpg', 'height_o': 1248, 'width_o': 1810}\n"
     ]
    }
   ],
   "source": [
    "print(flickr_res[\"photos\"]['photo'][0])"
   ]
  },
  {
   "cell_type": "code",
   "execution_count": 68,
   "metadata": {},
   "outputs": [],
   "source": [
    "# write csv header\n",
    "fields = ['calc_score', 'humidity', 'cloud_cover', 'visibility', 'user_score', 'lat', 'long', 'date_time', 'image_url']\n",
    "\n",
    "with open('./data.csv', 'w', newline='') as f:\n",
    "    writer = csv.writer(f)\n",
    "    row = ['a', 'b', 'c']\n",
    "    writer.writerow(fields)"
   ]
  },
  {
   "cell_type": "code",
   "execution_count": null,
   "metadata": {},
   "outputs": [],
   "source": [
    "# process multiple images at once\n",
    "VISUALCROSSING_API_KEY = os.getenv(\"VISUALCROSSING_API_KEY\")\n",
    "DATE_TIME_FORMAT_STRING = \"%Y-%m-%d %H:%M:%S\"\n",
    "SAMPLE_SCALE = 5\n",
    "\n",
    "def score_sunset(image):\n",
    "    sunset_pixel_counter = 0\n",
    "    for i in range(image.shape[0]):\n",
    "        for j in range(image.shape[1]):\n",
    "            rVal = image[i,j,0]\n",
    "            gVal = image[i,j,1]  \n",
    "            bVal = image[i,j,2]\n",
    "            hVal = colorsys.rgb_to_hls(rVal, gVal, bVal)[0]*360\n",
    "            if(hVal <= 45): # oranges are weighted less\n",
    "                sunset_pixel_counter += 0.7\n",
    "            elif(hVal >= 270): # reds and magentas are weighted fully\n",
    "                sunset_pixel_counter +=1\n",
    "\n",
    "    total_image_pixels = image.shape[1] *  image.shape[0]\n",
    "    sunset_score = ((sunset_pixel_counter / total_image_pixels) * 10)\n",
    "    sunset_score = round(sunset_score, 3)\n",
    "    return sunset_score\n",
    "\n",
    "f = open('./data.csv', 'a', newline='')\n",
    "writer = csv.writer(f)\n",
    "\n",
    "print(\"Length: \", len(flickr_res['photos']['photo']))\n",
    "\n",
    "for i in range(len(flickr_res['photos']['photo'])):\n",
    "    # Get and load pic from flickr res\n",
    "    photo = flickr_res['photos']['photo'][i]\n",
    "    imgUrl = f'https://live.staticflickr.com/{photo[\"server\"]}/{photo[\"id\"]}_{photo[\"secret\"]}_b.jpg'\n",
    "    pic = iio.imread(imgUrl)\n",
    "    \n",
    "    # GET WEATHER DATA FOR IMAGE\n",
    "    # nearest hour of sunset for picture\n",
    "    date_taken = datetime.strptime(photo[\"datetaken\"], DATE_TIME_FORMAT_STRING)\n",
    "    nearest_sunset_hour = date_taken.hour\n",
    "    if date_taken.minute > 30:\n",
    "        nearest_sunset_hour +=  1\n",
    "    \n",
    "    # make api call for picture\n",
    "    visualcrossing_history_api_url = \"https://weather.visualcrossing.com/VisualCrossingWebServices/rest/services/weatherdata/history?\" +\\\n",
    "                            \"&aggregateHours=1\" +\\\n",
    "                            \"&startDateTime=\" + str(date_taken.date()) +\\\n",
    "                            \"&endDateTime=\" + str(date_taken.date())  +\\\n",
    "                            \"&unitGroup=metric\" +\\\n",
    "                            \"&contentType=json\" +\\\n",
    "                            \"&dayStartTime=\" + str(nearest_sunset_hour) + \":0:00\" +\\\n",
    "                            \"&dayEndTime=\" + str(nearest_sunset_hour + 1) + \":0:00\" +\\\n",
    "                            \"&location=\" + photo[\"latitude\"] + \"%2C%20\" + photo[\"longitude\"] +\\\n",
    "                            \"&key=\" + VISUALCROSSING_API_KEY\n",
    "    weather_res = requests.get(visualcrossing_history_api_url)\n",
    "    # print(type(weather_res))\n",
    "    # print(weather_res.status_code)\n",
    "    if(weather_res.status_code != 200): \n",
    "        print('Unsuccessful request. Error code: {}'.format(weather_res.status_code))\n",
    "        sys.exit()\n",
    "    else:\n",
    "        # print('Visual Crossing API call was successful for index ', i)\n",
    "        weather_res = weather_res.json()\n",
    "    \n",
    "    # get weather data of picture\n",
    "    try:\n",
    "        nearest_hour_data = weather_res['locations'][photo[\"latitude\"] + \", \" + photo[\"longitude\"]]['values'][0]\n",
    "        humidity = nearest_hour_data['humidity']\n",
    "        cloud_cover = nearest_hour_data['cloudcover']\n",
    "        visibility = nearest_hour_data['visibility']\n",
    "    except KeyError:\n",
    "        if(weather_res['errorCode'] == -994): # api call quota hit\n",
    "            print(weather_res)\n",
    "            break\n",
    "        else:\n",
    "            # handles errorCode 999 (weird stuff)\n",
    "            print(weather_res)\n",
    "        \n",
    "        \n",
    "\n",
    "    # prevent images with empty weather data from being written\n",
    "    if(humidity == None or cloud_cover == None or visibility == None):\n",
    "        print(\"image\" , i, \"doesn't have all data:\")\n",
    "        print(humidity, cloud_cover, visibility)\n",
    "        continue\n",
    "\n",
    "    # ANALYZE PHOTO\n",
    "    length = pic.shape[0]\n",
    "    width = pic.shape[1]\n",
    "    sys_sample_pic = pic[0:length:SAMPLE_SCALE, 0:width:SAMPLE_SCALE, :]\n",
    "    calc_score = score_sunset(sys_sample_pic)\n",
    "\n",
    "    # WRITE TO CSV\n",
    "    row = [calc_score, humidity, cloud_cover, visibility, \"\", photo[\"latitude\"], photo[\"longitude\"], date_taken, imgUrl]\n",
    "    writer.writerow(row)\n",
    "f.close()"
   ]
  },
  {
   "cell_type": "code",
   "execution_count": null,
   "metadata": {},
   "outputs": [],
   "source": [
    "# make api call to visualcrossing for given photo\n",
    "VISUALCROSSING_API_KEY = os.environ[\"VISUALCROSSING_API_KEY\"]\n",
    "aPhoto = flickr_res['photos']['photo'][3]\n",
    "format_string = \"%Y-%m-%d %H:%M:%S\"\n",
    "date_taken = datetime.strptime(aPhoto[\"datetaken\"], format_string)\n",
    "# print(type(aPhoto))\n",
    "# print(aPhoto)\n",
    "# print(aPhoto[\"latitude\"])\n",
    "# print(aPhoto[\"longitude\"])\n",
    "# print(aPhoto[\"datetaken\"])\n",
    "# print(str(date_taken.date()))\n",
    "# print(str(date_taken.time()))\n",
    "\n",
    "# nearest hour of sunset for picture taken\n",
    "nearest_sunset_hour = date_taken.hour\n",
    "if date_taken.minute > 30:\n",
    "    nearest_sunset_hour +=  1\n",
    "# print(nearest_sunset_hour)\n",
    "\n",
    "visualcrossing_timeline_api_url = \"https://weather.visualcrossing.com/VisualCrossingWebServices/rest/services/timeline/\" +\\\n",
    "                        aPhoto[\"latitude\"] + \"%2C%20\" + aPhoto[\"longitude\"] + \"/\" +\\\n",
    "                        str(date_taken.date()) + \"/\" + str(date_taken.date()) +\\\n",
    "                        \"?unitGroup=us\" +\\\n",
    "                        \"&key=\" + VISUALCROSSING_API_KEY +\\\n",
    "                        \"&contentType=json\"\n",
    "\n",
    "visualcrossing_history_api_url = \"https://weather.visualcrossing.com/VisualCrossingWebServices/rest/services/weatherdata/history?\" +\\\n",
    "                            \"&aggregateHours=1\" +\\\n",
    "                            \"&startDateTime=\" + str(date_taken.date()) +\\\n",
    "                            \"&endDateTime=\" + str(date_taken.date())  +\\\n",
    "                            \"&unitGroup=metric\" +\\\n",
    "                            \"&contentType=json\" +\\\n",
    "                            \"&dayStartTime=\" + str(nearest_sunset_hour) + \":0:00\" +\\\n",
    "                            \"&dayEndTime=\" + str(nearest_sunset_hour + 1) + \":0:00\" +\\\n",
    "                            \"&location=\" + aPhoto[\"latitude\"] + \"%2C%20\" + aPhoto[\"longitude\"] +\\\n",
    "                            \"&key=\" + VISUALCROSSING_API_KEY\n",
    "\n",
    "weather_res = requests.get(visualcrossing_history_api_url)\n",
    "\n",
    "if(weather_res.status_code < 200 or weather_res.status_code >= 300): \n",
    "    print('Unsuccessful request. Error code: {}'.format(weather_res.status_code))\n",
    "    sys.exit()\n",
    "weather_res = weather_res.json()"
   ]
  },
  {
   "cell_type": "code",
   "execution_count": null,
   "metadata": {},
   "outputs": [],
   "source": [
    "# write weather data of picture to database\n",
    "\n",
    "# TODO: determine formatting for data\n",
    "nearest_hour_data = weather_res[\"days\"][0][\"hours\"][nearest_sunset_hour]\n",
    "# print(nearest_hour_data)\n",
    "print('Humidity : {}'.format(nearest_hour_data['humidity']))\n",
    "print('Cloud Cover : {}'.format(nearest_hour_data['cloudcover']))\n",
    "print('Sunset Time : {}'.format(weather_res['days'][0]['sunset']))\n",
    "print(nearest_sunset_hour)\n"
   ]
  },
  {
   "cell_type": "code",
   "execution_count": null,
   "metadata": {},
   "outputs": [],
   "source": [
    "# get systematic sample of pixels from image to analyze\n",
    "aPhoto = flickr_res['photos']['photo'][1]\n",
    "aImgUrl = f'https://live.staticflickr.com/{aPhoto[\"server\"]}/{aPhoto[\"id\"]}_{aPhoto[\"secret\"]}_b.jpg'\n",
    "aPic = iio.imread(aImgUrl)\n",
    "\n",
    "\n",
    "\n",
    "# display photo\n",
    "aFig = plt.figure(figsize=(10, 10))\n",
    "fig = plt.figure()\n",
    "plt.imshow(aPic)"
   ]
  }
 ],
 "metadata": {
  "kernelspec": {
   "display_name": "Python 3.10.5 64-bit",
   "language": "python",
   "name": "python3"
  },
  "language_info": {
   "codemirror_mode": {
    "name": "ipython",
    "version": 3
   },
   "file_extension": ".py",
   "mimetype": "text/x-python",
   "name": "python",
   "nbconvert_exporter": "python",
   "pygments_lexer": "ipython3",
   "version": "3.10.1"
  },
  "orig_nbformat": 4,
  "vscode": {
   "interpreter": {
    "hash": "369f2c481f4da34e4445cda3fffd2e751bd1c4d706f27375911949ba6bb62e1c"
   }
  }
 },
 "nbformat": 4,
 "nbformat_minor": 2
}
