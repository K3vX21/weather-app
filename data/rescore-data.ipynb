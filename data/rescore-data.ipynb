{
 "cells": [
  {
   "cell_type": "code",
   "execution_count": 4,
   "metadata": {},
   "outputs": [],
   "source": [
    "import imageio.v3 as iio\n",
    "import colorsys\n",
    "import pandas as pd"
   ]
  },
  {
   "cell_type": "code",
   "execution_count": 26,
   "metadata": {},
   "outputs": [],
   "source": [
    "def score_sunset_notBlue(image):\n",
    "    length = image.shape[0]\n",
    "    width = image.shape[1]\n",
    "    sampled_img = image[0:length:SAMPLE_SCALE, 0:width:SAMPLE_SCALE, :]\n",
    "\n",
    "    GREEN_CYAN_THRESHOLD = 170\n",
    "    BLUE_VIOLET_THRESHOLD = 270\n",
    "    blue_pixel_counter = 0\n",
    "    for i in range(sampled_img.shape[0]):\n",
    "        for j in range(sampled_img.shape[1]):\n",
    "            rVal = sampled_img[i,j,0]\n",
    "            gVal = sampled_img[i,j,1]  \n",
    "            bVal = sampled_img[i,j,2]\n",
    "            hVal = colorsys.rgb_to_hls(rVal, gVal, bVal)[0]*360\n",
    "            if(hVal >= GREEN_CYAN_THRESHOLD and hVal <= BLUE_VIOLET_THRESHOLD): \n",
    "                blue_pixel_counter +=1\n",
    "\n",
    "    total_image_pixels = sampled_img.shape[1] *  sampled_img.shape[0]\n",
    "    sunset_score = (1 - (blue_pixel_counter / total_image_pixels) ) * 100\n",
    "    sunset_score = round(sunset_score, 0)\n",
    "    return sunset_score"
   ]
  },
  {
   "cell_type": "code",
   "execution_count": 27,
   "metadata": {},
   "outputs": [
    {
     "name": "stderr",
     "output_type": "stream",
     "text": [
      "C:\\Python310\\lib\\colorsys.py:78: RuntimeWarning: overflow encountered in scalar add\n",
      "  sumc = (maxc+minc)\n",
      "C:\\Python310\\lib\\colorsys.py:86: RuntimeWarning: divide by zero encountered in scalar divide\n",
      "  s = rangec / (2.0-sumc)\n",
      "C:\\Python310\\lib\\colorsys.py:84: RuntimeWarning: divide by zero encountered in scalar divide\n",
      "  s = rangec / sumc\n"
     ]
    },
    {
     "name": "stdout",
     "output_type": "stream",
     "text": [
      "https://live.staticflickr.com/8343/8209101267_8dfb773784_b.jpg 73.0\n",
      "https://live.staticflickr.com/7353/9145346220_57291fb342_b.jpg 99.0\n",
      "https://live.staticflickr.com/8622/16497481019_14f8920baa_b.jpg 86.0\n",
      "https://live.staticflickr.com/7150/6557471091_3b04038131_b.jpg 65.0\n",
      "https://live.staticflickr.com/4284/34935388130_0fde61bf74_b.jpg 84.0\n",
      "https://live.staticflickr.com/5452/30626384664_ae4cf47e58_b.jpg 80.0\n",
      "https://live.staticflickr.com/7409/27430887712_b14f4bbd67_b.jpg 98.0\n",
      "https://live.staticflickr.com/888/27391059038_0ae7742a32_b.jpg 12.0\n",
      "https://live.staticflickr.com/3164/2975925617_46ab3295e8_b.jpg 88.0\n",
      "https://live.staticflickr.com/3273/3060229402_decc9df376_b.jpg 100.0\n",
      "https://live.staticflickr.com/3392/5844013688_65599a94b2_b.jpg 60.0\n",
      "https://live.staticflickr.com/2727/5845361059_a5ef5578ca_b.jpg 99.0\n",
      "https://live.staticflickr.com/7223/7134810085_4bfa02b4ca_b.jpg 87.0\n",
      "https://live.staticflickr.com/5701/31305412285_b158628713_b.jpg 17.0\n",
      "https://live.staticflickr.com/3798/14254187301_abec54b041_b.jpg 48.0\n",
      "https://live.staticflickr.com/8205/8289074376_562559a412_b.jpg 88.0\n",
      "https://live.staticflickr.com/1280/1358409273_8c225e2294_b.jpg 33.0\n",
      "https://live.staticflickr.com/4139/4747012008_a0bd7d423e_b.jpg 100.0\n",
      "https://live.staticflickr.com/2277/2385815395_f12fc2123b_b.jpg 86.0\n",
      "https://live.staticflickr.com/4087/5065747658_8003776ba6_b.jpg 100.0\n",
      "last index reached at row 20\n"
     ]
    }
   ],
   "source": [
    "# import csv\n",
    "df = pd.read_csv('./data.csv')\n",
    "\n",
    "SAMPLE_SCALE = 5\n",
    "TEMP_LAST_INDEX = 20\n",
    "\n",
    "for i in range(df.shape[0]):\n",
    "    if i == TEMP_LAST_INDEX:\n",
    "        print(\"last index reached at row\", i)\n",
    "        break\n",
    "    \n",
    "    imgUrl = df.loc[i]['image_url']\n",
    "    # error handling\n",
    "    try:\n",
    "        img = iio.imread(imgUrl)\n",
    "    except:\n",
    "        print(\"An exception occurred\")\n",
    "        continue\n",
    "    \n",
    "    # rescoring directions:\n",
    "    # score = score_sunset_notBlue(img)\n",
    "    # print(imgUrl, score)\n",
    "    # row.append(score)\n",
    "\n",
    "# iterate through rows"
   ]
  },
  {
   "cell_type": "code",
   "execution_count": null,
   "metadata": {},
   "outputs": [],
   "source": [
    "# for row in df:\n",
    "#     print(row)\n",
    "\"\"\"\n",
    "\n",
    "# rescore image\n",
    "# update csv\n",
    "# summarize scoring with histogram\n",
    "\"\"\"\n"
   ]
  }
 ],
 "metadata": {
  "kernelspec": {
   "display_name": "venv",
   "language": "python",
   "name": "python3"
  },
  "language_info": {
   "codemirror_mode": {
    "name": "ipython",
    "version": 3
   },
   "file_extension": ".py",
   "mimetype": "text/x-python",
   "name": "python",
   "nbconvert_exporter": "python",
   "pygments_lexer": "ipython3",
   "version": "3.10.1"
  },
  "orig_nbformat": 4
 },
 "nbformat": 4,
 "nbformat_minor": 2
}
